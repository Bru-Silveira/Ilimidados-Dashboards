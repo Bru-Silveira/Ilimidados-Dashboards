{
 "cells": [
  {
   "cell_type": "code",
   "execution_count": 1,
   "metadata": {},
   "outputs": [],
   "source": [
    "import pandas as pd\n",
    "import os\n",
    "\n",
    "import warnings\n",
    "warnings.simplefilter(\"ignore\")"
   ]
  },
  {
   "cell_type": "code",
   "execution_count": 2,
   "metadata": {},
   "outputs": [],
   "source": [
    "path_23 = os.path.join(os.getcwd(), \"data\", \"raw\", \"01_23-01_24\")\n",
    "path_24 = os.path.join(os.getcwd(), \"data\", \"raw\", \"01_24-03_24\")\n",
    "\n",
    "path_concorrentes_23 = path_23 + \"\"\"/soujunior_extração_concorrentes_01_23-01_24.csv\"\"\"\n",
    "path_conteudo_23 = path_23 + \"\"\"/soujunior_extração_conteúdo_01_23-01_24.xlsx\"\"\"\n",
    "path_seguidores_23 = path_23 + \"\"\"/soujunior_extração_seguidores_01_23-01_24.xls\"\"\"\n",
    "path_visitantes_23 = path_23 + \"\"\"/soujunior_extração_visitantes.xlsx\"\"\"\n",
    "\n",
    "path_concorrentes_24 = path_24 + \"/concorrentes_01_24-03_24.xlsx\"\n",
    "path_conteudo_24 = path_24 + \"/conteudo_01_24-03_24.xls\"\n",
    "path_seguidores_24 = path_24 + \"/seguidores_01_24-03_24.xls\"\n",
    "path_visitantes_24 = path_24 + \"/visitantes_01_24-03_24.xls\"\n",
    "\n",
    "path_export = os.path.join(os.getcwd(), \"data\", \"processed\")\n"
   ]
  },
  {
   "cell_type": "code",
   "execution_count": 3,
   "metadata": {},
   "outputs": [
    {
     "name": "stdout",
     "output_type": "stream",
     "text": [
      "ultima_data_23: 01/16/2024\n",
      "ultima_data_24: 03/24/2024\n"
     ]
    }
   ],
   "source": [
    "# funções\n",
    "# lendo as ultimas datas\n",
    "ultima_data_23 = str(pd.read_excel(path_seguidores_23, sheet_name=0)[\"Data\"].iloc[-1])\n",
    "ultima_data_24 = str(pd.read_excel(path_seguidores_24, sheet_name=0)[\"Data\"].iloc[-1])\n",
    "\n",
    "print(f\"ultima_data_23: {ultima_data_23}\")\n",
    "print(f\"ultima_data_24: {ultima_data_24}\")\n",
    "\n",
    "def read_and_concat_dfs(path1, path2, sheet, drop, skiprows_ = 0):\n",
    "    df1 = pd.read_excel(path1, sheet_name=sheet, skiprows= skiprows_)\n",
    "    df2 = pd.read_excel(path2, sheet_name=sheet, skiprows= skiprows_)\n",
    "\n",
    "    return pd.concat([df1, df2]).drop_duplicates(subset=[drop])\n",
    "\n",
    "\n",
    "def read_and_merge_dfs(path1, path2, sheet, date1=ultima_data_23, date2=ultima_data_24):\n",
    "    df1 = pd.read_excel(path1, sheet_name=sheet)\n",
    "    df2 = pd.read_excel(path2, sheet_name=sheet)\n",
    "\n",
    "    df1.insert(0, \"Data\", date1)\n",
    "    df2.insert(0, \"Data\", date2)\n",
    "\n",
    "    df_merged = pd.merge(left=df1, right=df2, how=\"outer\")\n",
    "    df_merged = df_merged.sort_values(by=df_merged.columns[-1], ascending=False)\n",
    "    return df_merged"
   ]
  },
  {
   "cell_type": "code",
   "execution_count": 4,
   "metadata": {},
   "outputs": [],
   "source": [
    "# conteudo\n",
    "df_conteudo_metricas_concat = read_and_concat_dfs(\n",
    "    path_conteudo_23, path_conteudo_24, 0, \"Data\", skiprows_=1\n",
    ")\n",
    "df_conteudo_publicacoes_concat = read_and_concat_dfs(\n",
    "    path_conteudo_24, path_conteudo_23, 1, \"Link da publicação\", skiprows_=1\n",
    ")\n",
    "\n",
    "df_conteudo_metricas_concat.to_csv(path_export + \"/conteudo_metricas.csv\", index=False)\n",
    "df_conteudo_publicacoes_concat.to_csv(path_export + \"/conteudo_publicacoes.csv\", index=False)"
   ]
  },
  {
   "cell_type": "code",
   "execution_count": 5,
   "metadata": {},
   "outputs": [],
   "source": [
    "# seguidores\n",
    "df_seguidores_novos_concat = read_and_concat_dfs(path_seguidores_23, path_seguidores_24, 0, \"Data\")\n",
    "\n",
    "df_seguidores_localidade_merged = read_and_merge_dfs(\n",
    "    path_seguidores_23, path_seguidores_24, 1\n",
    ")\n",
    "df_seguidores_funcao_merged = read_and_merge_dfs(\n",
    "    path_seguidores_23, path_seguidores_24, 2\n",
    ")\n",
    "df_seguidores_experiencia_merged = read_and_merge_dfs(\n",
    "    path_seguidores_23, path_seguidores_24, 3\n",
    ")\n",
    "df_seguidores_setor_merged = read_and_merge_dfs(\n",
    "    path_seguidores_23, path_seguidores_24, 4\n",
    ")\n",
    "df_seguidores_tamanho_empresa_merged = read_and_merge_dfs(\n",
    "    path_seguidores_23, path_seguidores_24, 5\n",
    ")\n",
    "\n",
    "df_seguidores_novos_concat.to_csv(path_export + \"/seguidores_novos.csv\", index=False)\n",
    "df_seguidores_localidade_merged.to_csv(path_export + \"/seguidores_localidade.csv\", index=False)\n",
    "df_seguidores_funcao_merged.to_csv(path_export + \"/seguidores_funcao.csv\", index=False)\n",
    "df_seguidores_experiencia_merged.to_csv(path_export + \"/seguidores_experiencia.csv\", index=False)\n",
    "df_seguidores_setor_merged.to_csv(path_export + \"/seguidores_setor.csv\", index=False)\n",
    "df_seguidores_tamanho_empresa_merged.to_csv(path_export + \"/seguidores_tamanho_empresa.csv\", index=False)"
   ]
  },
  {
   "cell_type": "code",
   "execution_count": 6,
   "metadata": {},
   "outputs": [],
   "source": [
    "# visitantes\n",
    "df_visitantes_novos_concat = read_and_concat_dfs(path_visitantes_23, path_visitantes_24, 0, \"Data\")\n",
    "\n",
    "df_visitantes_localidade_merged = read_and_merge_dfs(\n",
    "    path_visitantes_23, path_visitantes_24, 1\n",
    ")\n",
    "df_visitantes_funcao_merged = read_and_merge_dfs(\n",
    "    path_visitantes_23, path_visitantes_24, 2\n",
    ")\n",
    "df_visitantes_experiencia_merged = read_and_merge_dfs(\n",
    "    path_visitantes_23, path_visitantes_24, 3\n",
    ")\n",
    "df_visitantes_setor_merged = read_and_merge_dfs(\n",
    "    path_visitantes_23, path_visitantes_24, 4\n",
    ")\n",
    "df_visitantes_tamanho_empresa_merged = read_and_merge_dfs(\n",
    "    path_visitantes_23, path_visitantes_24, 5\n",
    ")\n",
    "\n",
    "df_visitantes_novos_concat.to_csv(path_export + \"/visitantes_novos.csv\", index=False)\n",
    "df_visitantes_localidade_merged.to_csv(path_export + \"/visitantes_localidade.csv\", index=False)\n",
    "df_visitantes_funcao_merged.to_csv(path_export + \"/visitantes_funcao.csv\", index=False)\n",
    "df_visitantes_experiencia_merged.to_csv(path_export + \"/visitantes_experiencia.csv\", index=False)\n",
    "df_visitantes_setor_merged.to_csv(path_export + \"/visitantes_setor.csv\", index=False)\n",
    "df_visitantes_tamanho_empresa_merged.to_csv(path_export + \"/visitantes_tamanho_empresa.csv\", index=False)"
   ]
  },
  {
   "cell_type": "code",
   "execution_count": 7,
   "metadata": {},
   "outputs": [],
   "source": [
    "# concorrentes\n",
    "concorrentes_23 = pd.read_csv(path_concorrentes_23, skiprows=1)\n",
    "concorrentes_24 = pd.read_excel(path_concorrentes_24, skiprows=1)\n",
    "concorrentes_23 = concorrentes_23[list(concorrentes_24.columns)]\n",
    "\n",
    "concorrentes_23.insert(0, \"Data\", ultima_data_23)\n",
    "concorrentes_24.insert(0, \"Data\", ultima_data_24)\n",
    "\n",
    "concorrentes_concat = pd.concat([concorrentes_23, concorrentes_24])\n",
    "concorrentes_concat.to_csv(path_export + \"/concorrentes.csv\", index=False)"
   ]
  }
 ],
 "metadata": {
  "kernelspec": {
   "display_name": ".venv",
   "language": "python",
   "name": "python3"
  },
  "language_info": {
   "codemirror_mode": {
    "name": "ipython",
    "version": 3
   },
   "file_extension": ".py",
   "mimetype": "text/x-python",
   "name": "python",
   "nbconvert_exporter": "python",
   "pygments_lexer": "ipython3",
   "version": "3.11.6"
  }
 },
 "nbformat": 4,
 "nbformat_minor": 2
}
